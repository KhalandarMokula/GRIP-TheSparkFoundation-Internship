{
  "nbformat": 4,
  "nbformat_minor": 0,
  "metadata": {
    "colab": {
      "name": "Task1.ipynb",
      "provenance": [],
      "collapsed_sections": []
    },
    "kernelspec": {
      "name": "python3",
      "display_name": "Python 3"
    },
    "language_info": {
      "name": "python"
    }
  },
  "cells": [
    {
      "cell_type": "markdown",
      "metadata": {
        "id": "XQf-fjTIx4cI"
      },
      "source": [
        "**AUTHOR: MOKULA SAI KHALANDAR** "
      ]
    },
    {
      "cell_type": "markdown",
      "metadata": {
        "id": "RUOfq414je33"
      },
      "source": [
        "# Graduate Rotational Internship Program :The Sparks Foundation #GRIPJULY21 \n"
      ]
    },
    {
      "cell_type": "markdown",
      "metadata": {
        "id": "ISWo5PjTkMZU"
      },
      "source": [
        "#TASK 1: Prediction using Supervised ML"
      ]
    },
    {
      "cell_type": "markdown",
      "metadata": {
        "id": "ouIo_Qqckr1z"
      },
      "source": [
        "**Objective: Predict the score of students given the number of hours of study.**"
      ]
    },
    {
      "cell_type": "markdown",
      "metadata": {
        "id": "SlEGkmRLyEG1"
      },
      "source": [
        "Importing required Libraries"
      ]
    },
    {
      "cell_type": "code",
      "metadata": {
        "id": "WN-m_HIWyDD0"
      },
      "source": [
        "import numpy as np\n",
        "import pandas as pd\n",
        "import matplotlib.pyplot as plt\n",
        "import seaborn as sns"
      ],
      "execution_count": 1,
      "outputs": []
    },
    {
      "cell_type": "code",
      "metadata": {
        "id": "Gsytp9DA-aAD"
      },
      "source": [
        "import matplotlib\n",
        "matplotlib.rcParams.update({'font.size': 13})"
      ],
      "execution_count": 2,
      "outputs": []
    },
    {
      "cell_type": "code",
      "metadata": {
        "id": "uHRZ4nuQxT_X"
      },
      "source": [
        "data_url = 'https://raw.githubusercontent.com/AdiPersonalWorks/Random/master/student_scores%20-%20student_scores.csv'"
      ],
      "execution_count": 3,
      "outputs": []
    },
    {
      "cell_type": "code",
      "metadata": {
        "id": "x8gh2VlDycjI"
      },
      "source": [
        "df = pd.read_csv(data_url)"
      ],
      "execution_count": 4,
      "outputs": []
    },
    {
      "cell_type": "markdown",
      "metadata": {
        "id": "OpNq3UrW2eL7"
      },
      "source": [
        "**Data Analysis**\n"
      ]
    },
    {
      "cell_type": "code",
      "metadata": {
        "colab": {
          "base_uri": "https://localhost:8080/",
          "height": 195
        },
        "id": "5T0o5Ka5yfnB",
        "outputId": "4c4a6549-c40c-4e61-dafb-5915cd9e3c2e"
      },
      "source": [
        "df.head()"
      ],
      "execution_count": 5,
      "outputs": [
        {
          "output_type": "execute_result",
          "data": {
            "text/html": [
              "<div>\n",
              "<style scoped>\n",
              "    .dataframe tbody tr th:only-of-type {\n",
              "        vertical-align: middle;\n",
              "    }\n",
              "\n",
              "    .dataframe tbody tr th {\n",
              "        vertical-align: top;\n",
              "    }\n",
              "\n",
              "    .dataframe thead th {\n",
              "        text-align: right;\n",
              "    }\n",
              "</style>\n",
              "<table border=\"1\" class=\"dataframe\">\n",
              "  <thead>\n",
              "    <tr style=\"text-align: right;\">\n",
              "      <th></th>\n",
              "      <th>Hours</th>\n",
              "      <th>Scores</th>\n",
              "    </tr>\n",
              "  </thead>\n",
              "  <tbody>\n",
              "    <tr>\n",
              "      <th>0</th>\n",
              "      <td>2.5</td>\n",
              "      <td>21</td>\n",
              "    </tr>\n",
              "    <tr>\n",
              "      <th>1</th>\n",
              "      <td>5.1</td>\n",
              "      <td>47</td>\n",
              "    </tr>\n",
              "    <tr>\n",
              "      <th>2</th>\n",
              "      <td>3.2</td>\n",
              "      <td>27</td>\n",
              "    </tr>\n",
              "    <tr>\n",
              "      <th>3</th>\n",
              "      <td>8.5</td>\n",
              "      <td>75</td>\n",
              "    </tr>\n",
              "    <tr>\n",
              "      <th>4</th>\n",
              "      <td>3.5</td>\n",
              "      <td>30</td>\n",
              "    </tr>\n",
              "  </tbody>\n",
              "</table>\n",
              "</div>"
            ],
            "text/plain": [
              "   Hours  Scores\n",
              "0    2.5      21\n",
              "1    5.1      47\n",
              "2    3.2      27\n",
              "3    8.5      75\n",
              "4    3.5      30"
            ]
          },
          "metadata": {
            "tags": []
          },
          "execution_count": 5
        }
      ]
    },
    {
      "cell_type": "code",
      "metadata": {
        "colab": {
          "base_uri": "https://localhost:8080/"
        },
        "id": "p6LCv9dGygcj",
        "outputId": "f5db02cd-9570-42f5-a9e3-a74939b92cac"
      },
      "source": [
        "df.info()"
      ],
      "execution_count": 6,
      "outputs": [
        {
          "output_type": "stream",
          "text": [
            "<class 'pandas.core.frame.DataFrame'>\n",
            "RangeIndex: 25 entries, 0 to 24\n",
            "Data columns (total 2 columns):\n",
            " #   Column  Non-Null Count  Dtype  \n",
            "---  ------  --------------  -----  \n",
            " 0   Hours   25 non-null     float64\n",
            " 1   Scores  25 non-null     int64  \n",
            "dtypes: float64(1), int64(1)\n",
            "memory usage: 528.0 bytes\n"
          ],
          "name": "stdout"
        }
      ]
    },
    {
      "cell_type": "markdown",
      "metadata": {
        "id": "rPH0Lsc9yxDx"
      },
      "source": [
        "**Dataset contains 25 entries(samples) with each entry having 2 feature variables:**\n",
        ">'Hours' - Feature variable(Independent Variable).\\\n",
        "> 'Scores' - our target variable(Dependent variable). "
      ]
    },
    {
      "cell_type": "code",
      "metadata": {
        "colab": {
          "base_uri": "https://localhost:8080/",
          "height": 787
        },
        "id": "Bqk8-ZsiBJTa",
        "outputId": "6ea92493-40d2-4a36-c393-7aebc6bdfb70"
      },
      "source": [
        "#sorting the data in increasing order of hours\n",
        "df.sort_values(by='Hours')"
      ],
      "execution_count": 7,
      "outputs": [
        {
          "output_type": "execute_result",
          "data": {
            "text/html": [
              "<div>\n",
              "<style scoped>\n",
              "    .dataframe tbody tr th:only-of-type {\n",
              "        vertical-align: middle;\n",
              "    }\n",
              "\n",
              "    .dataframe tbody tr th {\n",
              "        vertical-align: top;\n",
              "    }\n",
              "\n",
              "    .dataframe thead th {\n",
              "        text-align: right;\n",
              "    }\n",
              "</style>\n",
              "<table border=\"1\" class=\"dataframe\">\n",
              "  <thead>\n",
              "    <tr style=\"text-align: right;\">\n",
              "      <th></th>\n",
              "      <th>Hours</th>\n",
              "      <th>Scores</th>\n",
              "    </tr>\n",
              "  </thead>\n",
              "  <tbody>\n",
              "    <tr>\n",
              "      <th>14</th>\n",
              "      <td>1.1</td>\n",
              "      <td>17</td>\n",
              "    </tr>\n",
              "    <tr>\n",
              "      <th>5</th>\n",
              "      <td>1.5</td>\n",
              "      <td>20</td>\n",
              "    </tr>\n",
              "    <tr>\n",
              "      <th>17</th>\n",
              "      <td>1.9</td>\n",
              "      <td>24</td>\n",
              "    </tr>\n",
              "    <tr>\n",
              "      <th>0</th>\n",
              "      <td>2.5</td>\n",
              "      <td>21</td>\n",
              "    </tr>\n",
              "    <tr>\n",
              "      <th>16</th>\n",
              "      <td>2.5</td>\n",
              "      <td>30</td>\n",
              "    </tr>\n",
              "    <tr>\n",
              "      <th>20</th>\n",
              "      <td>2.7</td>\n",
              "      <td>30</td>\n",
              "    </tr>\n",
              "    <tr>\n",
              "      <th>9</th>\n",
              "      <td>2.7</td>\n",
              "      <td>25</td>\n",
              "    </tr>\n",
              "    <tr>\n",
              "      <th>2</th>\n",
              "      <td>3.2</td>\n",
              "      <td>27</td>\n",
              "    </tr>\n",
              "    <tr>\n",
              "      <th>13</th>\n",
              "      <td>3.3</td>\n",
              "      <td>42</td>\n",
              "    </tr>\n",
              "    <tr>\n",
              "      <th>4</th>\n",
              "      <td>3.5</td>\n",
              "      <td>30</td>\n",
              "    </tr>\n",
              "    <tr>\n",
              "      <th>22</th>\n",
              "      <td>3.8</td>\n",
              "      <td>35</td>\n",
              "    </tr>\n",
              "    <tr>\n",
              "      <th>12</th>\n",
              "      <td>4.5</td>\n",
              "      <td>41</td>\n",
              "    </tr>\n",
              "    <tr>\n",
              "      <th>21</th>\n",
              "      <td>4.8</td>\n",
              "      <td>54</td>\n",
              "    </tr>\n",
              "    <tr>\n",
              "      <th>1</th>\n",
              "      <td>5.1</td>\n",
              "      <td>47</td>\n",
              "    </tr>\n",
              "    <tr>\n",
              "      <th>7</th>\n",
              "      <td>5.5</td>\n",
              "      <td>60</td>\n",
              "    </tr>\n",
              "    <tr>\n",
              "      <th>11</th>\n",
              "      <td>5.9</td>\n",
              "      <td>62</td>\n",
              "    </tr>\n",
              "    <tr>\n",
              "      <th>18</th>\n",
              "      <td>6.1</td>\n",
              "      <td>67</td>\n",
              "    </tr>\n",
              "    <tr>\n",
              "      <th>23</th>\n",
              "      <td>6.9</td>\n",
              "      <td>76</td>\n",
              "    </tr>\n",
              "    <tr>\n",
              "      <th>19</th>\n",
              "      <td>7.4</td>\n",
              "      <td>69</td>\n",
              "    </tr>\n",
              "    <tr>\n",
              "      <th>10</th>\n",
              "      <td>7.7</td>\n",
              "      <td>85</td>\n",
              "    </tr>\n",
              "    <tr>\n",
              "      <th>24</th>\n",
              "      <td>7.8</td>\n",
              "      <td>86</td>\n",
              "    </tr>\n",
              "    <tr>\n",
              "      <th>8</th>\n",
              "      <td>8.3</td>\n",
              "      <td>81</td>\n",
              "    </tr>\n",
              "    <tr>\n",
              "      <th>3</th>\n",
              "      <td>8.5</td>\n",
              "      <td>75</td>\n",
              "    </tr>\n",
              "    <tr>\n",
              "      <th>15</th>\n",
              "      <td>8.9</td>\n",
              "      <td>95</td>\n",
              "    </tr>\n",
              "    <tr>\n",
              "      <th>6</th>\n",
              "      <td>9.2</td>\n",
              "      <td>88</td>\n",
              "    </tr>\n",
              "  </tbody>\n",
              "</table>\n",
              "</div>"
            ],
            "text/plain": [
              "    Hours  Scores\n",
              "14    1.1      17\n",
              "5     1.5      20\n",
              "17    1.9      24\n",
              "0     2.5      21\n",
              "16    2.5      30\n",
              "20    2.7      30\n",
              "9     2.7      25\n",
              "2     3.2      27\n",
              "13    3.3      42\n",
              "4     3.5      30\n",
              "22    3.8      35\n",
              "12    4.5      41\n",
              "21    4.8      54\n",
              "1     5.1      47\n",
              "7     5.5      60\n",
              "11    5.9      62\n",
              "18    6.1      67\n",
              "23    6.9      76\n",
              "19    7.4      69\n",
              "10    7.7      85\n",
              "24    7.8      86\n",
              "8     8.3      81\n",
              "3     8.5      75\n",
              "15    8.9      95\n",
              "6     9.2      88"
            ]
          },
          "metadata": {
            "tags": []
          },
          "execution_count": 7
        }
      ]
    },
    {
      "cell_type": "code",
      "metadata": {
        "colab": {
          "base_uri": "https://localhost:8080/",
          "height": 284
        },
        "id": "TBu20gWUzPf2",
        "outputId": "bacf9735-a4ba-4e1f-c9fd-86ed60e45316"
      },
      "source": [
        "df.describe()"
      ],
      "execution_count": 8,
      "outputs": [
        {
          "output_type": "execute_result",
          "data": {
            "text/html": [
              "<div>\n",
              "<style scoped>\n",
              "    .dataframe tbody tr th:only-of-type {\n",
              "        vertical-align: middle;\n",
              "    }\n",
              "\n",
              "    .dataframe tbody tr th {\n",
              "        vertical-align: top;\n",
              "    }\n",
              "\n",
              "    .dataframe thead th {\n",
              "        text-align: right;\n",
              "    }\n",
              "</style>\n",
              "<table border=\"1\" class=\"dataframe\">\n",
              "  <thead>\n",
              "    <tr style=\"text-align: right;\">\n",
              "      <th></th>\n",
              "      <th>Hours</th>\n",
              "      <th>Scores</th>\n",
              "    </tr>\n",
              "  </thead>\n",
              "  <tbody>\n",
              "    <tr>\n",
              "      <th>count</th>\n",
              "      <td>25.000000</td>\n",
              "      <td>25.000000</td>\n",
              "    </tr>\n",
              "    <tr>\n",
              "      <th>mean</th>\n",
              "      <td>5.012000</td>\n",
              "      <td>51.480000</td>\n",
              "    </tr>\n",
              "    <tr>\n",
              "      <th>std</th>\n",
              "      <td>2.525094</td>\n",
              "      <td>25.286887</td>\n",
              "    </tr>\n",
              "    <tr>\n",
              "      <th>min</th>\n",
              "      <td>1.100000</td>\n",
              "      <td>17.000000</td>\n",
              "    </tr>\n",
              "    <tr>\n",
              "      <th>25%</th>\n",
              "      <td>2.700000</td>\n",
              "      <td>30.000000</td>\n",
              "    </tr>\n",
              "    <tr>\n",
              "      <th>50%</th>\n",
              "      <td>4.800000</td>\n",
              "      <td>47.000000</td>\n",
              "    </tr>\n",
              "    <tr>\n",
              "      <th>75%</th>\n",
              "      <td>7.400000</td>\n",
              "      <td>75.000000</td>\n",
              "    </tr>\n",
              "    <tr>\n",
              "      <th>max</th>\n",
              "      <td>9.200000</td>\n",
              "      <td>95.000000</td>\n",
              "    </tr>\n",
              "  </tbody>\n",
              "</table>\n",
              "</div>"
            ],
            "text/plain": [
              "           Hours     Scores\n",
              "count  25.000000  25.000000\n",
              "mean    5.012000  51.480000\n",
              "std     2.525094  25.286887\n",
              "min     1.100000  17.000000\n",
              "25%     2.700000  30.000000\n",
              "50%     4.800000  47.000000\n",
              "75%     7.400000  75.000000\n",
              "max     9.200000  95.000000"
            ]
          },
          "metadata": {
            "tags": []
          },
          "execution_count": 8
        }
      ]
    },
    {
      "cell_type": "code",
      "metadata": {
        "colab": {
          "base_uri": "https://localhost:8080/",
          "height": 136
        },
        "id": "UgUceLP22a66",
        "outputId": "5c9caceb-aab4-4065-db28-8389e1fb99b4"
      },
      "source": [
        "m = [df.mean()[0],df.median()[0],df.mode().iloc[0][0]]\n",
        "n = [df.mean()[1],df.median()[1],df.mode().iloc[0][1]]\n",
        "pd.DataFrame({'Hours':m,\"Scores\":n},index=['mean','median','mode'])"
      ],
      "execution_count": 9,
      "outputs": [
        {
          "output_type": "execute_result",
          "data": {
            "text/html": [
              "<div>\n",
              "<style scoped>\n",
              "    .dataframe tbody tr th:only-of-type {\n",
              "        vertical-align: middle;\n",
              "    }\n",
              "\n",
              "    .dataframe tbody tr th {\n",
              "        vertical-align: top;\n",
              "    }\n",
              "\n",
              "    .dataframe thead th {\n",
              "        text-align: right;\n",
              "    }\n",
              "</style>\n",
              "<table border=\"1\" class=\"dataframe\">\n",
              "  <thead>\n",
              "    <tr style=\"text-align: right;\">\n",
              "      <th></th>\n",
              "      <th>Hours</th>\n",
              "      <th>Scores</th>\n",
              "    </tr>\n",
              "  </thead>\n",
              "  <tbody>\n",
              "    <tr>\n",
              "      <th>mean</th>\n",
              "      <td>5.012</td>\n",
              "      <td>51.48</td>\n",
              "    </tr>\n",
              "    <tr>\n",
              "      <th>median</th>\n",
              "      <td>4.800</td>\n",
              "      <td>47.00</td>\n",
              "    </tr>\n",
              "    <tr>\n",
              "      <th>mode</th>\n",
              "      <td>2.500</td>\n",
              "      <td>30.00</td>\n",
              "    </tr>\n",
              "  </tbody>\n",
              "</table>\n",
              "</div>"
            ],
            "text/plain": [
              "        Hours  Scores\n",
              "mean    5.012   51.48\n",
              "median  4.800   47.00\n",
              "mode    2.500   30.00"
            ]
          },
          "metadata": {
            "tags": []
          },
          "execution_count": 9
        }
      ]
    },
    {
      "cell_type": "markdown",
      "metadata": {
        "id": "MTfEhPIkitcE"
      },
      "source": [
        "**HOURS:** mean > median > mode\\\n",
        "**SCORES:**  mean> median> mode           \n",
        "This tells that the distribution is right skewed not by much but partially as the values are not so far from each other."
      ]
    },
    {
      "cell_type": "markdown",
      "metadata": {
        "id": "mfl3RcFr7hOY"
      },
      "source": [
        "**Checking the amount of skewness**"
      ]
    },
    {
      "cell_type": "code",
      "metadata": {
        "colab": {
          "base_uri": "https://localhost:8080/"
        },
        "id": "5x6BXPFYl414",
        "outputId": "2786ea1f-a810-491b-b67e-96df68f06cdb"
      },
      "source": [
        "#checking the amount of skewness\n",
        "print(\"Skewness of Hours variable:\" ,df['Hours'].skew())\n",
        "print(\"Skewness of Scores variable:\" ,df['Scores'].skew())"
      ],
      "execution_count": 10,
      "outputs": [
        {
          "output_type": "stream",
          "text": [
            "Skewness of Hours variable: 0.1903382010052985\n",
            "Skewness of Scores variable: 0.2339646665397317\n"
          ],
          "name": "stdout"
        }
      ]
    },
    {
      "cell_type": "code",
      "metadata": {
        "colab": {
          "base_uri": "https://localhost:8080/",
          "height": 378
        },
        "id": "TqqD4mLxjoTs",
        "outputId": "54231036-ec48-4a39-d52b-ad5096ddde00"
      },
      "source": [
        "sns.set_style('darkgrid')\n",
        "plt.figure(figsize=(8,4))\n",
        "plt.subplot(1,2,1)\n",
        "sns.distplot(df['Hours'])\n",
        "plt.subplot(1,2,2)\n",
        "sns.distplot(df['Scores'])\n",
        "plt.tight_layout()"
      ],
      "execution_count": 11,
      "outputs": [
        {
          "output_type": "stream",
          "text": [
            "/usr/local/lib/python3.7/dist-packages/seaborn/distributions.py:2557: FutureWarning: `distplot` is a deprecated function and will be removed in a future version. Please adapt your code to use either `displot` (a figure-level function with similar flexibility) or `histplot` (an axes-level function for histograms).\n",
            "  warnings.warn(msg, FutureWarning)\n",
            "/usr/local/lib/python3.7/dist-packages/seaborn/distributions.py:2557: FutureWarning: `distplot` is a deprecated function and will be removed in a future version. Please adapt your code to use either `displot` (a figure-level function with similar flexibility) or `histplot` (an axes-level function for histograms).\n",
            "  warnings.warn(msg, FutureWarning)\n"
          ],
          "name": "stderr"
        },
        {
          "output_type": "display_data",
          "data": {
            "image/png": "[encoded data removed]",
            "text/plain": [
              "<Figure size 576x288 with 2 Axes>"
            ]
          },
          "metadata": {
            "tags": []
          }
        }
      ]
    },
    {
      "cell_type": "markdown",
      "metadata": {
        "id": "JVWKAdc4mL4D"
      },
      "source": [
        "**Observation: As the Value of skewness is in between -0.5 and 0.5 the Distribution is fairly Symmetrical (lightly right skewed) .So, we proceed to train our model with this data without need of any transformation.**"
      ]
    },
    {
      "cell_type": "code",
      "metadata": {
        "colab": {
          "base_uri": "https://localhost:8080/",
          "height": 302
        },
        "id": "rVseaaEnzTQY",
        "outputId": "1e09c2f2-600f-4e36-cf4c-8fd18f09d8ab"
      },
      "source": [
        "#regression plot of 'Hours' vs 'Scores'\n",
        "sns.regplot(x='Hours',y='Scores',data=df)"
      ],
      "execution_count": 12,
      "outputs": [
        {
          "output_type": "execute_result",
          "data": {
            "text/plain": [
              "<matplotlib.axes._subplots.AxesSubplot at 0x7f9698206ad0>"
            ]
          },
          "metadata": {
            "tags": []
          },
          "execution_count": 12
        },
        {
          "output_type": "display_data",
          "data": {
            "image/png": "[encoded data removed]",
            "text/plain": [
              "<Figure size 432x288 with 1 Axes>"
            ]
          },
          "metadata": {
            "tags": []
          }
        }
      ]
    },
    {
      "cell_type": "markdown",
      "metadata": {
        "id": "5jn5shnG21k3"
      },
      "source": [
        "**Observation: 'Scores' variable is in linear relationship with independent variable i.e. 'Hours'.**"
      ]
    },
    {
      "cell_type": "code",
      "metadata": {
        "colab": {
          "base_uri": "https://localhost:8080/",
          "height": 291
        },
        "id": "JItJ4LD_zqJZ",
        "outputId": "c3b5cb9d-5ed0-4fae-a5a4-0283e164fece"
      },
      "source": [
        "#creating subplots in a single row.\n",
        "fig,axs = plt.subplots(nrows=1,ncols=2,figsize=(8,4))\n",
        "#position, to specify where to plot in the subplots axes created above,\n",
        "index = 0\n",
        "for k,v in df.items():\n",
        "  #Plotting Boxplot, \n",
        "  sns.boxplot(y=k,data=df,ax=axs[index],saturation=0.7,color='orange')\n",
        "  index+=1\n",
        "plt.tight_layout()"
      ],
      "execution_count": 13,
      "outputs": [
        {
          "output_type": "display_data",
          "data": {
            "image/png": "[encoded data removed]",
            "text/plain": [
              "<Figure size 576x288 with 2 Axes>"
            ]
          },
          "metadata": {
            "tags": []
          }
        }
      ]
    },
    {
      "cell_type": "markdown",
      "metadata": {
        "id": "Watn2grY1Io5"
      },
      "source": [
        "**Observation : We can clearly see that there are no outliers present in the data.**"
      ]
    },
    {
      "cell_type": "code",
      "metadata": {
        "id": "C0VMcSh334DI"
      },
      "source": [
        "x = df['Hours'].values\n",
        "x = x.reshape(-1,1)\n",
        "y = df['Scores'].values"
      ],
      "execution_count": 14,
      "outputs": []
    },
    {
      "cell_type": "markdown",
      "metadata": {
        "id": "OA9rlEcg3lqm"
      },
      "source": [
        "**Splitting the data into train and test set**"
      ]
    },
    {
      "cell_type": "code",
      "metadata": {
        "id": "JOgdHbfk2Gch"
      },
      "source": [
        "#importing train_test_split from sklearn\n",
        "from sklearn.model_selection import train_test_split"
      ],
      "execution_count": 15,
      "outputs": []
    },
    {
      "cell_type": "code",
      "metadata": {
        "id": "qE9vCQ983uN4"
      },
      "source": [
        "x_train,x_test,y_train,y_test = train_test_split(x,y,test_size=0.2,random_state=0)"
      ],
      "execution_count": 16,
      "outputs": []
    },
    {
      "cell_type": "code",
      "metadata": {
        "colab": {
          "base_uri": "https://localhost:8080/"
        },
        "id": "R1BkqM5q4DGF",
        "outputId": "eeaf48ef-b159-4c8e-a087-a299e9d561cf"
      },
      "source": [
        "print(\"x_train shape: \",x_train.shape)\n",
        "print(\"y_train shape: \",y_train.shape)\n",
        "print(\"x_test shape: \",x_test.shape)\n",
        "print(\"y_test shape: \",y_test.shape)"
      ],
      "execution_count": 17,
      "outputs": [
        {
          "output_type": "stream",
          "text": [
            "x_train shape:  (20, 1)\n",
            "y_train shape:  (20,)\n",
            "x_test shape:  (5, 1)\n",
            "y_test shape:  (5,)\n"
          ],
          "name": "stdout"
        }
      ]
    },
    {
      "cell_type": "markdown",
      "metadata": {
        "id": "5Qpp3wx5FSLC"
      },
      "source": [
        "**Importing Evaluatuion Metrics**"
      ]
    },
    {
      "cell_type": "code",
      "metadata": {
        "id": "ml4e037E6jhG"
      },
      "source": [
        "from sklearn.metrics import mean_absolute_error,mean_squared_error,r2_score"
      ],
      "execution_count": 18,
      "outputs": []
    },
    {
      "cell_type": "markdown",
      "metadata": {
        "id": "ZHMkSgbRFWWX"
      },
      "source": [
        "#Linear Regression Implementation using Numpy"
      ]
    },
    {
      "cell_type": "code",
      "metadata": {
        "id": "1VWtf_KIQaDy"
      },
      "source": [
        "import math\n",
        "class LinearRegression:\n",
        "    \"\"\"\n",
        "    Simple Linear Regression.\n",
        "    LinearRegression fits a linear model with coefficients w = (w1, ..., wp)\n",
        "    to minimize the residual sum of squares between the observed targets in\n",
        "    the dataset, and the targets predicted by the linear approximation.\n",
        "    \n",
        "    Parameters\n",
        "    ----------\n",
        "    X: Independent Feature vectors from the dataset.\n",
        "    y: Dependent variable(Target variable) from the dataset.\n",
        "    l_rate: Learning rate for Gradient Descent Optimization.\n",
        "    \n",
        "    Attributes\n",
        "    ----------\n",
        "    theta: Paramter Matrix , Calculated Weights of each feature variable.\n",
        "    residual : Difeerence between actual and predicted target variable,used for evaluation.\n",
        "    y_pred_final : Final prediction on training set obtained after maximum optimization of theta.\n",
        "    \n",
        "    Notes\n",
        "    -----\n",
        "    From the implementation point of view, this is just very basic plain Linear Regression \n",
        "    with Gradient Descent implementation.\n",
        "    \"\"\"\n",
        "    \n",
        "    def __init__(self,x,y,l_rate):\n",
        "        \"\"\"\n",
        "        x: input shape: M,N\n",
        "            M: no of training examples.\n",
        "            N: no of features.\n",
        "        y: target shape:M,1\n",
        "        l_rate: floating point number.\n",
        "        \"\"\"\n",
        "        self.x = x\n",
        "        self.y = y\n",
        "        self.l_rate = l_rate\n",
        "\n",
        "    def initialize_theta(self,initialization=\"Zeros\"):\n",
        "        \"\"\"\n",
        "        Initialize parmater theta to Zeros,Random or He initilization on basis of \n",
        "        parameter initialization\n",
        "        Theta : parameter shape:N,1\n",
        "        N: no of features.\n",
        "        \"\"\"\n",
        "        n = self.x.shape[1]\n",
        "        if initialization == \"Zeros\":\n",
        "            self.theta = np.zeros((n,1))\n",
        "        elif initialization == \"Random\":\n",
        "            self.theta = np.random.randn(n,1)\n",
        "    \n",
        "    def Residuals(self):\n",
        "        \"\"\"\n",
        "        Calculate the prediction(target variable) \n",
        "        prediction [M,1]: M,N dot N,1 matrix of values\n",
        "        return:\n",
        "            Residual(difference between original and prediction)\n",
        "            shape : M,1\n",
        "        \"\"\"\n",
        "        y_pred = np.dot(self.x,self.theta)\n",
        "        self.residual = y_pred - self.y\n",
        "       # print(y_pred.shape)\n",
        "\n",
        "    def Cost(self):\n",
        "        \"\"\"\n",
        "        return:\n",
        "            cost 1/2*m(sum(residual*residual))\n",
        "        \"\"\"\n",
        "        self.Residuals()\n",
        "        self.m = self.x.shape[0]\n",
        "        self.cost = np.square(self.residual)/(2*self.m)\n",
        "        return np.sum(self.cost,axis=0)\n",
        "    def update_theta(self):\n",
        "        \"\"\"\n",
        "        Updating the parameter matrix theta of dimension N*1 for optimizing performance\n",
        "        \"\"\"\n",
        "        #print(self.x.shape,self.residual.shape)\n",
        "        self.theta-= self.l_rate*np.dot(self.x.T,self.residual)\n",
        "      \n",
        "    def final_prediciton(self):\n",
        "        \"\"\"\n",
        "        return:\n",
        "        Train_set prediction\n",
        "        shape: M,1\n",
        "        \"\"\"\n",
        "        #self.y_pred_final = np.dot(self.x,self.theta)\n",
        "        return np.dot(self.x,self.theta)\n",
        "    def predict_sample(self,test):\n",
        "        \"\"\"\n",
        "        return :\n",
        "        sample prediction\n",
        "        shape: S,1\n",
        "        S: no of samples\n",
        "        \"\"\"\n",
        "        #self.y_pred_final=np.dot(test,self.theta)\n",
        "        return np.dot(test,self.theta)"
      ],
      "execution_count": 19,
      "outputs": []
    },
    {
      "cell_type": "markdown",
      "metadata": {
        "id": "ywGteeR4KSFC"
      },
      "source": [
        "**Creating an instance of the model**"
      ]
    },
    {
      "cell_type": "code",
      "metadata": {
        "id": "oCJ02yHx85Gp"
      },
      "source": [
        "lr = LinearRegression(x_train,y_train.reshape(len(y_train),1),l_rate= 0.00001)"
      ],
      "execution_count": 20,
      "outputs": []
    },
    {
      "cell_type": "markdown",
      "metadata": {
        "id": "CssLg9XpKarl"
      },
      "source": [
        "**Initilizing Weights(paramters) W1 in this case**"
      ]
    },
    {
      "cell_type": "code",
      "metadata": {
        "id": "6K7RX-KA9lkc"
      },
      "source": [
        "lr.initialize_theta(initialization=\"Zeros\")"
      ],
      "execution_count": 21,
      "outputs": []
    },
    {
      "cell_type": "markdown",
      "metadata": {
        "id": "IYcAX_WnKikR"
      },
      "source": [
        "**Updating Weights by performing Gradient Descent**"
      ]
    },
    {
      "cell_type": "code",
      "metadata": {
        "id": "iWAIHIH39rIZ"
      },
      "source": [
        "n_iterations =600 #125\n",
        "costs=[]\n",
        "for i in range(n_iterations):\n",
        "    costs.append(lr.Cost())\n",
        "    #performing gradient descent\n",
        "    lr.update_theta()"
      ],
      "execution_count": 22,
      "outputs": []
    },
    {
      "cell_type": "code",
      "metadata": {
        "id": "yua0NEQ4AVJT"
      },
      "source": [
        "predictions = lr.final_prediciton()\n"
      ],
      "execution_count": 23,
      "outputs": []
    },
    {
      "cell_type": "code",
      "metadata": {
        "colab": {
          "base_uri": "https://localhost:8080/",
          "height": 417
        },
        "id": "huXg-3mwAp92",
        "outputId": "ec267873-50e2-4df4-c33b-8fb7a42c08c6"
      },
      "source": [
        "plt.figure(figsize=(10,5))\n",
        "plt.subplot(1,2,1)\n",
        "#plt.scatter(y_train_sc,predictions)\n",
        "sns.regplot(pd.Series(data=np.ravel(y_train),name='y_orig'),pd.Series(data=np.ravel(predictions),name='predictions'))\n",
        "plt.title(\"Y_train vs pred_train\")\n",
        "plt.xlabel(\"Y_train\")\n",
        "plt.ylabel(\"Pred_train\")\n",
        "\n",
        "plt.subplot(1,2,2)\n",
        "plt.plot(range(n_iterations),np.squeeze(costs),'r')\n",
        "plt.title('Plot of cost vs n_iterations(Gradient Descent)')\n",
        "plt.xlabel('Itearation number')\n",
        "plt.ylabel('cost')\n",
        "plt.tight_layout()"
      ],
      "execution_count": 24,
      "outputs": [
        {
          "output_type": "stream",
          "text": [
            "/usr/local/lib/python3.7/dist-packages/seaborn/_decorators.py:43: FutureWarning: Pass the following variables as keyword args: x, y. From version 0.12, the only valid positional argument will be `data`, and passing other arguments without an explicit keyword will result in an error or misinterpretation.\n",
            "  FutureWarning\n"
          ],
          "name": "stderr"
        },
        {
          "output_type": "display_data",
          "data": {
            "image/png": "[encoded data removed]",
            "text/plain": [
              "<Figure size 720x360 with 2 Axes>"
            ]
          },
          "metadata": {
            "tags": []
          }
        }
      ]
    },
    {
      "cell_type": "markdown",
      "metadata": {
        "id": "WZYmBbUbLBdX"
      },
      "source": [
        "**Making Predicitons on train set(seen data)**"
      ]
    },
    {
      "cell_type": "code",
      "metadata": {
        "colab": {
          "base_uri": "https://localhost:8080/",
          "height": 254
        },
        "id": "6QcQX6gxAtwO",
        "outputId": "881c7647-c048-452d-a62d-787b5f6d53cd"
      },
      "source": [
        "pd.DataFrame({\"Orginal\":y_train,\"preds \": predictions.ravel()}).head(7)"
      ],
      "execution_count": 25,
      "outputs": [
        {
          "output_type": "execute_result",
          "data": {
            "text/html": [
              "<div>\n",
              "<style scoped>\n",
              "    .dataframe tbody tr th:only-of-type {\n",
              "        vertical-align: middle;\n",
              "    }\n",
              "\n",
              "    .dataframe tbody tr th {\n",
              "        vertical-align: top;\n",
              "    }\n",
              "\n",
              "    .dataframe thead th {\n",
              "        text-align: right;\n",
              "    }\n",
              "</style>\n",
              "<table border=\"1\" class=\"dataframe\">\n",
              "  <thead>\n",
              "    <tr style=\"text-align: right;\">\n",
              "      <th></th>\n",
              "      <th>Orginal</th>\n",
              "      <th>preds</th>\n",
              "    </tr>\n",
              "  </thead>\n",
              "  <tbody>\n",
              "    <tr>\n",
              "      <th>0</th>\n",
              "      <td>35</td>\n",
              "      <td>38.178236</td>\n",
              "    </tr>\n",
              "    <tr>\n",
              "      <th>1</th>\n",
              "      <td>24</td>\n",
              "      <td>19.089118</td>\n",
              "    </tr>\n",
              "    <tr>\n",
              "      <th>2</th>\n",
              "      <td>86</td>\n",
              "      <td>78.365853</td>\n",
              "    </tr>\n",
              "    <tr>\n",
              "      <th>3</th>\n",
              "      <td>76</td>\n",
              "      <td>69.323639</td>\n",
              "    </tr>\n",
              "    <tr>\n",
              "      <th>4</th>\n",
              "      <td>17</td>\n",
              "      <td>11.051595</td>\n",
              "    </tr>\n",
              "    <tr>\n",
              "      <th>5</th>\n",
              "      <td>47</td>\n",
              "      <td>51.239211</td>\n",
              "    </tr>\n",
              "    <tr>\n",
              "      <th>6</th>\n",
              "      <td>85</td>\n",
              "      <td>77.361162</td>\n",
              "    </tr>\n",
              "  </tbody>\n",
              "</table>\n",
              "</div>"
            ],
            "text/plain": [
              "   Orginal     preds \n",
              "0       35  38.178236\n",
              "1       24  19.089118\n",
              "2       86  78.365853\n",
              "3       76  69.323639\n",
              "4       17  11.051595\n",
              "5       47  51.239211\n",
              "6       85  77.361162"
            ]
          },
          "metadata": {
            "tags": []
          },
          "execution_count": 25
        }
      ]
    },
    {
      "cell_type": "markdown",
      "metadata": {
        "id": "WMFhpHID_iNZ"
      },
      "source": [
        "**Evaluating Models Performance on train set**"
      ]
    },
    {
      "cell_type": "code",
      "metadata": {
        "id": "ngKQOKcOBgQ9",
        "colab": {
          "base_uri": "https://localhost:8080/"
        },
        "outputId": "a16724f7-a1d9-4606-a549-63eaa9b06d70"
      },
      "source": [
        "print(\"Mean Absolute Error: \",mean_absolute_error(y_train,predictions))\n",
        "print(\"Mean squared Error: \",mean_squared_error(y_train,predictions))\n",
        "print(\"Root Mean Squared Error: \",np.sqrt(mean_squared_error(y_train,predictions)))"
      ],
      "execution_count": 26,
      "outputs": [
        {
          "output_type": "stream",
          "text": [
            "Mean Absolute Error:  5.329831194941636\n",
            "Mean squared Error:  32.71386977203654\n",
            "Root Mean Squared Error:  5.719603987343576\n"
          ],
          "name": "stdout"
        }
      ]
    },
    {
      "cell_type": "markdown",
      "metadata": {
        "id": "QB3d1eBsLGf-"
      },
      "source": [
        "**Making Predictions on test set(Unseen Data)**"
      ]
    },
    {
      "cell_type": "code",
      "metadata": {
        "id": "poFuvYx896sn"
      },
      "source": [
        "predictions_test = lr.predict_sample(x_test)"
      ],
      "execution_count": 27,
      "outputs": []
    },
    {
      "cell_type": "code",
      "metadata": {
        "colab": {
          "base_uri": "https://localhost:8080/",
          "height": 195
        },
        "id": "K8JNTCLr-3x6",
        "outputId": "d150dba2-142f-410d-ea8e-c09ea982a3bc"
      },
      "source": [
        "pd.DataFrame({'Original ':y_test,'Predictions: ':predictions_test.ravel()})"
      ],
      "execution_count": 28,
      "outputs": [
        {
          "output_type": "execute_result",
          "data": {
            "text/html": [
              "<div>\n",
              "<style scoped>\n",
              "    .dataframe tbody tr th:only-of-type {\n",
              "        vertical-align: middle;\n",
              "    }\n",
              "\n",
              "    .dataframe tbody tr th {\n",
              "        vertical-align: top;\n",
              "    }\n",
              "\n",
              "    .dataframe thead th {\n",
              "        text-align: right;\n",
              "    }\n",
              "</style>\n",
              "<table border=\"1\" class=\"dataframe\">\n",
              "  <thead>\n",
              "    <tr style=\"text-align: right;\">\n",
              "      <th></th>\n",
              "      <th>Original</th>\n",
              "      <th>Predictions:</th>\n",
              "    </tr>\n",
              "  </thead>\n",
              "  <tbody>\n",
              "    <tr>\n",
              "      <th>0</th>\n",
              "      <td>20</td>\n",
              "      <td>15.070356</td>\n",
              "    </tr>\n",
              "    <tr>\n",
              "      <th>1</th>\n",
              "      <td>27</td>\n",
              "      <td>32.150093</td>\n",
              "    </tr>\n",
              "    <tr>\n",
              "      <th>2</th>\n",
              "      <td>69</td>\n",
              "      <td>74.347091</td>\n",
              "    </tr>\n",
              "    <tr>\n",
              "      <th>3</th>\n",
              "      <td>30</td>\n",
              "      <td>25.117260</td>\n",
              "    </tr>\n",
              "    <tr>\n",
              "      <th>4</th>\n",
              "      <td>62</td>\n",
              "      <td>59.276735</td>\n",
              "    </tr>\n",
              "  </tbody>\n",
              "</table>\n",
              "</div>"
            ],
            "text/plain": [
              "   Original   Predictions: \n",
              "0         20      15.070356\n",
              "1         27      32.150093\n",
              "2         69      74.347091\n",
              "3         30      25.117260\n",
              "4         62      59.276735"
            ]
          },
          "metadata": {
            "tags": []
          },
          "execution_count": 28
        }
      ]
    },
    {
      "cell_type": "markdown",
      "metadata": {
        "id": "G1RWZ2U2LMIM"
      },
      "source": [
        "**Evaluating Models Performance on test set**"
      ]
    },
    {
      "cell_type": "code",
      "metadata": {
        "colab": {
          "base_uri": "https://localhost:8080/"
        },
        "id": "O5g42t1h-ymA",
        "outputId": "fad2899b-304e-482b-fa65-7c7f577eba6b"
      },
      "source": [
        "print(\"Mean Absolute Error: \",mean_absolute_error(y_test,predictions_test))\n",
        "print(\"Mean squared Error: \",mean_squared_error(y_test,predictions_test))\n",
        "print(\"Root Mean Squared Error: \",np.sqrt(mean_squared_error(y_test,predictions_test)))"
      ],
      "execution_count": 29,
      "outputs": [
        {
          "output_type": "stream",
          "text": [
            "Mean Absolute Error:  4.606566587693422\n",
            "Mean squared Error:  22.13471017231179\n",
            "Root Mean Squared Error:  4.704753997002584\n"
          ],
          "name": "stdout"
        }
      ]
    },
    {
      "cell_type": "code",
      "metadata": {
        "colab": {
          "base_uri": "https://localhost:8080/"
        },
        "id": "ACdudF0OCBM7",
        "outputId": "daca6927-1bba-40dd-f976-5b0abc4f09a4"
      },
      "source": [
        "print(\"Train set Accuracy: \",r2_score(y_train,predictions)*100,'%')\n",
        "print(\"Test set Accuarcy:\" ,r2_score(y_test,predictions_test)*100,'%')"
      ],
      "execution_count": 30,
      "outputs": [
        {
          "output_type": "stream",
          "text": [
            "Train set Accuracy:  94.87040407496124 %\n",
            "Test set Accuarcy: 94.41381229247128 %\n"
          ],
          "name": "stdout"
        }
      ]
    },
    {
      "cell_type": "code",
      "metadata": {
        "id": "7AwWVCvv5rQf"
      },
      "source": [
        "sample=[[9.25]]"
      ],
      "execution_count": 31,
      "outputs": []
    },
    {
      "cell_type": "code",
      "metadata": {
        "colab": {
          "base_uri": "https://localhost:8080/"
        },
        "id": "uEj2QOBJFDZE",
        "outputId": "b3bb26ad-bbc8-4bbc-8883-961bab9c4818"
      },
      "source": [
        "#Predicting the score when given number of hours studied is 9.25\n",
        "lr.predict_sample(sample)"
      ],
      "execution_count": 32,
      "outputs": [
        {
          "output_type": "execute_result",
          "data": {
            "text/plain": [
              "array([[92.93386383]])"
            ]
          },
          "metadata": {
            "tags": []
          },
          "execution_count": 32
        }
      ]
    },
    {
      "cell_type": "markdown",
      "metadata": {
        "id": "quXJltlp_nQU"
      },
      "source": [
        "**The above model of linear regrssion was to just to get the intution behind Simple Linear Regression and to understand how Gradient Descent works.**"
      ]
    },
    {
      "cell_type": "markdown",
      "metadata": {
        "id": "YAdHsPyEIitF"
      },
      "source": [
        "## **Linear Regression with Python Scikit Learn**"
      ]
    },
    {
      "cell_type": "code",
      "metadata": {
        "id": "PqZL9ESG4cRd"
      },
      "source": [
        "from sklearn.linear_model import LinearRegression"
      ],
      "execution_count": 33,
      "outputs": []
    },
    {
      "cell_type": "code",
      "metadata": {
        "id": "cc1sKYoq4s9C"
      },
      "source": [
        "lm = LinearRegression()"
      ],
      "execution_count": 34,
      "outputs": []
    },
    {
      "cell_type": "code",
      "metadata": {
        "colab": {
          "base_uri": "https://localhost:8080/"
        },
        "id": "RaqDsDfUETwV",
        "outputId": "92d59a22-046e-4e1c-a7e7-eeb771d7ca12"
      },
      "source": [
        "lm.fit(x_train,y_train)"
      ],
      "execution_count": 35,
      "outputs": [
        {
          "output_type": "execute_result",
          "data": {
            "text/plain": [
              "LinearRegression(copy_X=True, fit_intercept=True, n_jobs=None, normalize=False)"
            ]
          },
          "metadata": {
            "tags": []
          },
          "execution_count": 35
        }
      ]
    },
    {
      "cell_type": "markdown",
      "metadata": {
        "id": "tjQ7DaNIJ1cz"
      },
      "source": [
        "**Making Predictions on train set (Seen Data)**"
      ]
    },
    {
      "cell_type": "code",
      "metadata": {
        "id": "A_vz22I5LcJy"
      },
      "source": [
        "pred_train=lm.predict(x_train)"
      ],
      "execution_count": 36,
      "outputs": []
    },
    {
      "cell_type": "code",
      "metadata": {
        "colab": {
          "base_uri": "https://localhost:8080/",
          "height": 254
        },
        "id": "FKGNSYurLhOv",
        "outputId": "f189e72a-a930-47e2-833f-dceba28133f2"
      },
      "source": [
        "pd.DataFrame({\"True Value: \":y_train,\"Predicted Value: \":pred_train}).head(7)"
      ],
      "execution_count": 37,
      "outputs": [
        {
          "output_type": "execute_result",
          "data": {
            "text/html": [
              "<div>\n",
              "<style scoped>\n",
              "    .dataframe tbody tr th:only-of-type {\n",
              "        vertical-align: middle;\n",
              "    }\n",
              "\n",
              "    .dataframe tbody tr th {\n",
              "        vertical-align: top;\n",
              "    }\n",
              "\n",
              "    .dataframe thead th {\n",
              "        text-align: right;\n",
              "    }\n",
              "</style>\n",
              "<table border=\"1\" class=\"dataframe\">\n",
              "  <thead>\n",
              "    <tr style=\"text-align: right;\">\n",
              "      <th></th>\n",
              "      <th>True Value:</th>\n",
              "      <th>Predicted Value:</th>\n",
              "    </tr>\n",
              "  </thead>\n",
              "  <tbody>\n",
              "    <tr>\n",
              "      <th>0</th>\n",
              "      <td>35</td>\n",
              "      <td>39.678655</td>\n",
              "    </tr>\n",
              "    <tr>\n",
              "      <th>1</th>\n",
              "      <td>24</td>\n",
              "      <td>20.848407</td>\n",
              "    </tr>\n",
              "    <tr>\n",
              "      <th>2</th>\n",
              "      <td>86</td>\n",
              "      <td>79.321281</td>\n",
              "    </tr>\n",
              "    <tr>\n",
              "      <th>3</th>\n",
              "      <td>76</td>\n",
              "      <td>70.401690</td>\n",
              "    </tr>\n",
              "    <tr>\n",
              "      <th>4</th>\n",
              "      <td>17</td>\n",
              "      <td>12.919882</td>\n",
              "    </tr>\n",
              "    <tr>\n",
              "      <th>5</th>\n",
              "      <td>47</td>\n",
              "      <td>52.562508</td>\n",
              "    </tr>\n",
              "    <tr>\n",
              "      <th>6</th>\n",
              "      <td>85</td>\n",
              "      <td>78.330215</td>\n",
              "    </tr>\n",
              "  </tbody>\n",
              "</table>\n",
              "</div>"
            ],
            "text/plain": [
              "   True Value:   Predicted Value: \n",
              "0            35          39.678655\n",
              "1            24          20.848407\n",
              "2            86          79.321281\n",
              "3            76          70.401690\n",
              "4            17          12.919882\n",
              "5            47          52.562508\n",
              "6            85          78.330215"
            ]
          },
          "metadata": {
            "tags": []
          },
          "execution_count": 37
        }
      ]
    },
    {
      "cell_type": "markdown",
      "metadata": {
        "id": "wzm_lHavL0xl"
      },
      "source": [
        "**Making Predictions on test set (Unseen Data)**"
      ]
    },
    {
      "cell_type": "code",
      "metadata": {
        "id": "JElOBwYfEoQr"
      },
      "source": [
        "pred = lm.predict(x_test)"
      ],
      "execution_count": 38,
      "outputs": []
    },
    {
      "cell_type": "code",
      "metadata": {
        "colab": {
          "base_uri": "https://localhost:8080/",
          "height": 195
        },
        "id": "obGe56rT6GYg",
        "outputId": "6fda99fa-81cf-4de1-af80-7c2f2705bc8e"
      },
      "source": [
        "pd.DataFrame({\"True \":y_test,\"Predicted\":pred})"
      ],
      "execution_count": 39,
      "outputs": [
        {
          "output_type": "execute_result",
          "data": {
            "text/html": [
              "<div>\n",
              "<style scoped>\n",
              "    .dataframe tbody tr th:only-of-type {\n",
              "        vertical-align: middle;\n",
              "    }\n",
              "\n",
              "    .dataframe tbody tr th {\n",
              "        vertical-align: top;\n",
              "    }\n",
              "\n",
              "    .dataframe thead th {\n",
              "        text-align: right;\n",
              "    }\n",
              "</style>\n",
              "<table border=\"1\" class=\"dataframe\">\n",
              "  <thead>\n",
              "    <tr style=\"text-align: right;\">\n",
              "      <th></th>\n",
              "      <th>True</th>\n",
              "      <th>Predicted</th>\n",
              "    </tr>\n",
              "  </thead>\n",
              "  <tbody>\n",
              "    <tr>\n",
              "      <th>0</th>\n",
              "      <td>20</td>\n",
              "      <td>16.884145</td>\n",
              "    </tr>\n",
              "    <tr>\n",
              "      <th>1</th>\n",
              "      <td>27</td>\n",
              "      <td>33.732261</td>\n",
              "    </tr>\n",
              "    <tr>\n",
              "      <th>2</th>\n",
              "      <td>69</td>\n",
              "      <td>75.357018</td>\n",
              "    </tr>\n",
              "    <tr>\n",
              "      <th>3</th>\n",
              "      <td>30</td>\n",
              "      <td>26.794801</td>\n",
              "    </tr>\n",
              "    <tr>\n",
              "      <th>4</th>\n",
              "      <td>62</td>\n",
              "      <td>60.491033</td>\n",
              "    </tr>\n",
              "  </tbody>\n",
              "</table>\n",
              "</div>"
            ],
            "text/plain": [
              "   True   Predicted\n",
              "0     20  16.884145\n",
              "1     27  33.732261\n",
              "2     69  75.357018\n",
              "3     30  26.794801\n",
              "4     62  60.491033"
            ]
          },
          "metadata": {
            "tags": []
          },
          "execution_count": 39
        }
      ]
    },
    {
      "cell_type": "markdown",
      "metadata": {
        "id": "CWuY-jWDIzYr"
      },
      "source": [
        "**Plotting the Regression line**"
      ]
    },
    {
      "cell_type": "code",
      "metadata": {
        "id": "RZXTsWTBExYj"
      },
      "source": [
        "reg_line = lm.coef_*x+lm.intercept_"
      ],
      "execution_count": 40,
      "outputs": []
    },
    {
      "cell_type": "code",
      "metadata": {
        "colab": {
          "base_uri": "https://localhost:8080/",
          "height": 320
        },
        "id": "sA1uQcqHE-Ys",
        "outputId": "e5804a1a-7b4b-4036-bf12-e83ef188d3cd"
      },
      "source": [
        "plt.scatter(x,y)\n",
        "plt.plot(x,reg_line)\n",
        "plt.xlabel(\"X : Hours\")\n",
        "plt.ylabel(\"Y: Scores\")\n",
        "plt.title(\"Hours vs Scores of students\")"
      ],
      "execution_count": 41,
      "outputs": [
        {
          "output_type": "execute_result",
          "data": {
            "text/plain": [
              "Text(0.5, 1.0, 'Hours vs Scores of students')"
            ]
          },
          "metadata": {
            "tags": []
          },
          "execution_count": 41
        },
        {
          "output_type": "display_data",
          "data": {
            "image/png": "[encoded data removed]",
            "text/plain": [
              "<Figure size 432x288 with 1 Axes>"
            ]
          },
          "metadata": {
            "tags": []
          }
        }
      ]
    },
    {
      "cell_type": "markdown",
      "metadata": {
        "id": "2K4WYfUsJBgV"
      },
      "source": [
        "**Predicting the score when given number of hours studied is 9.25**"
      ]
    },
    {
      "cell_type": "code",
      "metadata": {
        "colab": {
          "base_uri": "https://localhost:8080/"
        },
        "id": "GHBeV1X-I9zO",
        "outputId": "08ba74c0-e517-4fde-b515-f2a36b9a8970"
      },
      "source": [
        "sample = [[9.25]]\n",
        "print(\"Expected Score of Student if he studies for 9.25 hrs: \",lm.predict(sample)[0].round(2))"
      ],
      "execution_count": 42,
      "outputs": [
        {
          "output_type": "stream",
          "text": [
            "Expected Score of Student if he studies for 9.25 hrs:  93.69\n"
          ],
          "name": "stdout"
        }
      ]
    },
    {
      "cell_type": "markdown",
      "metadata": {
        "id": "A_tGpYJsJnfQ"
      },
      "source": [
        "\n",
        "\n",
        "\n",
        "\n",
        "**Evaluating Model Preformance**"
      ]
    },
    {
      "cell_type": "code",
      "metadata": {
        "colab": {
          "base_uri": "https://localhost:8080/"
        },
        "id": "57NWrr2rEeG0",
        "outputId": "e3a5ecd5-5b15-4144-d707-c6462e01f9a9"
      },
      "source": [
        "print(\"Performance on Test Set\")\n",
        "print(\"Mean Absolute Error: \",mean_absolute_error(y_test,pred))\n",
        "print(\"Mean squared Error: \",mean_squared_error(y_test,pred))\n",
        "print(\"Root Mean Squared Error: \",np.sqrt(mean_squared_error(y_test,pred)))"
      ],
      "execution_count": 43,
      "outputs": [
        {
          "output_type": "stream",
          "text": [
            "Performance on Test Set\n",
            "Mean Absolute Error:  4.183859899002982\n",
            "Mean squared Error:  21.598769307217456\n",
            "Root Mean Squared Error:  4.647447612100373\n"
          ],
          "name": "stdout"
        }
      ]
    },
    {
      "cell_type": "code",
      "metadata": {
        "colab": {
          "base_uri": "https://localhost:8080/"
        },
        "id": "NOOgVLBw8JRC",
        "outputId": "c771b9d2-ee34-4179-db6d-c6c9794c0e30"
      },
      "source": [
        "print(\"Train set Accuracy: \",lm.score(x_train,y_train)*100,\"%\")\n",
        "print(\"Test set Accuarcy:\" ,lm.score(x_test,y_test)*100,'%')\n"
      ],
      "execution_count": 44,
      "outputs": [
        {
          "output_type": "stream",
          "text": [
            "Train set Accuracy:  95.15510725211553 %\n",
            "Test set Accuarcy: 94.54906892105353 %\n"
          ],
          "name": "stdout"
        }
      ]
    },
    {
      "cell_type": "markdown",
      "metadata": {
        "id": "-5APHJPGly6G"
      },
      "source": [
        "**What will be predicted score if a student studies for 9.25 hrs/ day?**\n",
        "\n",
        "\n",
        "> Expected Score of Student if he studies for **9.25 hrs** is  **93.69** .\n",
        "\n"
      ]
    },
    {
      "cell_type": "markdown",
      "metadata": {
        "id": "Hjk8863gddME"
      },
      "source": [
        "**THANK YOU :)**"
      ]
    }
  ]
}